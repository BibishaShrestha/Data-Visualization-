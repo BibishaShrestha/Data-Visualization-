{
 "cells": [
  {
   "cell_type": "markdown",
   "metadata": {},
   "source": [
    "## Linear Algebra"
   ]
  },
  {
   "cell_type": "code",
   "execution_count": 1,
   "metadata": {},
   "outputs": [],
   "source": [
    "import pandas as pd\n",
    "import seaborn as sns\n",
    "import matplotlib.pyplot as plt\n",
    "import numpy as np"
   ]
  },
  {
   "cell_type": "markdown",
   "metadata": {},
   "source": [
    "### Matrix Operation"
   ]
  },
  {
   "cell_type": "code",
   "execution_count": 21,
   "metadata": {},
   "outputs": [
    {
     "name": "stdout",
     "output_type": "stream",
     "text": [
      "Matrix A:\n",
      "[[ 2 -1]\n",
      " [ 0  3]]\n",
      "Matrix B:\n",
      "[[ 1  2]\n",
      " [-3  4]]\n"
     ]
    }
   ],
   "source": [
    "A=np.array([[2,-1], \n",
    "            [0,3]])\n",
    "B=np.array([[1,2],\n",
    "            [-3,4]])\n",
    "print(\"Matrix A:\")\n",
    "print(A)\n",
    "print(\"Matrix B:\")\n",
    "print(B)"
   ]
  },
  {
   "cell_type": "markdown",
   "metadata": {},
   "source": [
    "##### 1. A+B"
   ]
  },
  {
   "cell_type": "code",
   "execution_count": 3,
   "metadata": {},
   "outputs": [
    {
     "name": "stdout",
     "output_type": "stream",
     "text": [
      "[[ 3  1]\n",
      " [-3  7]]\n"
     ]
    }
   ],
   "source": [
    "print(A+B)"
   ]
  },
  {
   "cell_type": "markdown",
   "metadata": {},
   "source": [
    "##### 2. AB"
   ]
  },
  {
   "cell_type": "code",
   "execution_count": 21,
   "metadata": {},
   "outputs": [
    {
     "name": "stdout",
     "output_type": "stream",
     "text": [
      "[[ 5  0]\n",
      " [-9 12]]\n"
     ]
    }
   ],
   "source": [
    "A=np.array([[2,-1], \n",
    "            [0,3]])\n",
    "B=np.array([[1,2],\n",
    "            [-3,4]])\n",
    "print(A @ B)"
   ]
  },
  {
   "cell_type": "markdown",
   "metadata": {},
   "source": [
    "##### 3. 3A-2B"
   ]
  },
  {
   "cell_type": "code",
   "execution_count": 5,
   "metadata": {},
   "outputs": [
    {
     "name": "stdout",
     "output_type": "stream",
     "text": [
      "[[ 4 -7]\n",
      " [ 6  1]]\n"
     ]
    }
   ],
   "source": [
    "print(3*A-2*B)"
   ]
  },
  {
   "cell_type": "markdown",
   "metadata": {},
   "source": [
    "### Determinant and Inverse"
   ]
  },
  {
   "cell_type": "code",
   "execution_count": 19,
   "metadata": {},
   "outputs": [
    {
     "name": "stdout",
     "output_type": "stream",
     "text": [
      "Determinant= 6.0\n",
      "Inverse:\n",
      "[[0.5        0.16666667]\n",
      " [0.         0.33333333]]\n"
     ]
    }
   ],
   "source": [
    "import numpy.linalg as LA\n",
    "# For Determinant\n",
    "A=np.array([[2,-1], \n",
    "            [0,3]])\n",
    "Det=LA.det(A)\n",
    "print(\"Determinant=\",Det)\n",
    "# For Inverse (As A is non-singular matrix)\n",
    "if(Det==0):\n",
    "    print(\"The matrix is not invertible.\")\n",
    "else:\n",
    " inverse=np.linalg.inv(A)\n",
    " print(\"Inverse:\")\n",
    " print(inverse)"
   ]
  },
  {
   "cell_type": "markdown",
   "metadata": {},
   "source": [
    "### Eigen value and Eigen vectors "
   ]
  },
  {
   "cell_type": "code",
   "execution_count": 26,
   "metadata": {},
   "outputs": [
    {
     "name": "stdout",
     "output_type": "stream",
     "text": [
      "Matrix C:\n",
      "[[ 4  1]\n",
      " [-2  1]]\n",
      "\n",
      "Eigenvalues:\n",
      "3.0\n",
      "2.0\n",
      "\n",
      "Corresponding Eigenvectors:\n",
      "[[ 0.70710678]\n",
      " [-0.70710678]]\n",
      "[[-0.4472136 ]\n",
      " [ 0.89442719]]\n"
     ]
    }
   ],
   "source": [
    "# Define the matrix\n",
    "C=np.array([[4,1],\n",
    "            [-2,1]])\n",
    "# Compute eigenvalues and eigenvectors\n",
    "eigenvalues, eigenvectors = np.linalg.eig(C)\n",
    "print(\"Matrix C:\")\n",
    "print(C)\n",
    "print(\"\\nEigenvalues:\")\n",
    "print(eigenvalues[0])\n",
    "print(eigenvalues[1])\n",
    "print(\"\\nCorresponding Eigenvectors:\")\n",
    "print(eigenvectors[:,[0]])\n",
    "print(eigenvectors[:,[1]])"
   ]
  },
  {
   "cell_type": "markdown",
   "metadata": {},
   "source": [
    "### Price of Cars According to the Features"
   ]
  },
  {
   "cell_type": "markdown",
   "metadata": {},
   "source": [
    "##### Dataset of cars with features:\n",
    "##### x1= Number of cylinders\n",
    "##### x2= Engine size in litres\n",
    "##### x3= Horsepower\n",
    "##### Car1: x1=4, x2=1.5, x3=100 and price:20\n",
    "##### Car2: x1=6, x2=2.0, x3=150 and price:30\n",
    "##### To find the price of Car3: x1=8, x2=3.0 ,x3=200 and price=?"
   ]
  },
  {
   "cell_type": "code",
   "execution_count": 25,
   "metadata": {},
   "outputs": [
    {
     "name": "stdout",
     "output_type": "stream",
     "text": [
      "The price of the car3 is: 40.00000000000069\n"
     ]
    }
   ],
   "source": [
    "F = np.array([[4,1.5,100],\n",
    "              [6,2.0,150]])\n",
    "Pr= np.array([[20],[30]])\n",
    "inverse = np.linalg.pinv(F.T @ F)\n",
    "B = inverse @ F.T @ Pr\n",
    "X = np.array([[8,3.0,200]])\n",
    "price = np.linalg.det(X @ B)\n",
    "print(\"The price of the car3 is:\",price)"
   ]
  }
 ],
 "metadata": {
  "kernelspec": {
   "display_name": "Python 3",
   "language": "python",
   "name": "python3"
  },
  "language_info": {
   "codemirror_mode": {
    "name": "ipython",
    "version": 3
   },
   "file_extension": ".py",
   "mimetype": "text/x-python",
   "name": "python",
   "nbconvert_exporter": "python",
   "pygments_lexer": "ipython3",
   "version": "3.13.1"
  }
 },
 "nbformat": 4,
 "nbformat_minor": 2
}
